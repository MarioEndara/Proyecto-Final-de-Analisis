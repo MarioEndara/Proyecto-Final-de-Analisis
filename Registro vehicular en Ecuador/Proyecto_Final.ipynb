{
 "cells": [
  {
   "cell_type": "code",
   "execution_count": 40,
   "id": "6572ee7c-efa5-47e4-ad77-cd28758c7188",
   "metadata": {},
   "outputs": [],
   "source": [
    "import pandas as pd\n",
    "import sqlalchemy\n",
    "import faker"
   ]
  },
  {
   "cell_type": "code",
   "execution_count": 41,
   "id": "88e6cd14-067d-40c8-9cf5-f0d6a4dbd695",
   "metadata": {},
   "outputs": [],
   "source": [
    "import mysql.connector"
   ]
  },
  {
   "cell_type": "code",
   "execution_count": 42,
   "id": "94c03497-bdb4-4d6c-81f4-e0f3ee8a0396",
   "metadata": {},
   "outputs": [],
   "source": [
    "from mysql.connector import Error"
   ]
  },
  {
   "cell_type": "code",
   "execution_count": 43,
   "id": "56dceba4-dc68-4d12-ad8f-72d8b1a8a28e",
   "metadata": {},
   "outputs": [],
   "source": [
    "import json"
   ]
  },
  {
   "cell_type": "code",
   "execution_count": 44,
   "id": "de21ade8-9884-4e1f-b890-363fbb2a8ce4",
   "metadata": {},
   "outputs": [],
   "source": [
    "import sqlite3"
   ]
  },
  {
   "cell_type": "code",
   "execution_count": 45,
   "id": "93a3107a-b7b0-45a8-95a7-be619061a90c",
   "metadata": {},
   "outputs": [
    {
     "data": {
      "text/html": [
       "<div>\n",
       "<style scoped>\n",
       "    .dataframe tbody tr th:only-of-type {\n",
       "        vertical-align: middle;\n",
       "    }\n",
       "\n",
       "    .dataframe tbody tr th {\n",
       "        vertical-align: top;\n",
       "    }\n",
       "\n",
       "    .dataframe thead th {\n",
       "        text-align: right;\n",
       "    }\n",
       "</style>\n",
       "<table border=\"1\" class=\"dataframe\">\n",
       "  <thead>\n",
       "    <tr style=\"text-align: right;\">\n",
       "      <th></th>\n",
       "      <th>PROVINCIA</th>\n",
       "      <th>SERVICIO</th>\n",
       "      <th>CLASE</th>\n",
       "      <th>COMBUSTIBLE</th>\n",
       "      <th>MARCA</th>\n",
       "      <th>MODELO</th>\n",
       "      <th>ASIENTOS</th>\n",
       "      <th>TONELAJE</th>\n",
       "      <th>ESTRATONE</th>\n",
       "      <th>ESTRASIENTOS</th>\n",
       "    </tr>\n",
       "  </thead>\n",
       "  <tbody>\n",
       "    <tr>\n",
       "      <th>0</th>\n",
       "      <td>SUCUMBIOS</td>\n",
       "      <td>ALQUILER</td>\n",
       "      <td>Trailer</td>\n",
       "      <td>Diesel</td>\n",
       "      <td>INTERNATIONAL</td>\n",
       "      <td>2006</td>\n",
       "      <td>0</td>\n",
       "      <td>45.0</td>\n",
       "      <td>15 1/4 Y MÁS</td>\n",
       "      <td>0 A 10</td>\n",
       "    </tr>\n",
       "    <tr>\n",
       "      <th>1</th>\n",
       "      <td>GUAYAS</td>\n",
       "      <td>ALQUILER</td>\n",
       "      <td>Trailer</td>\n",
       "      <td>Diesel</td>\n",
       "      <td>INTERNATIONAL</td>\n",
       "      <td>2011</td>\n",
       "      <td>0</td>\n",
       "      <td>40.0</td>\n",
       "      <td>15 1/4 Y MÁS</td>\n",
       "      <td>0 A 10</td>\n",
       "    </tr>\n",
       "    <tr>\n",
       "      <th>2</th>\n",
       "      <td>CARCHI</td>\n",
       "      <td>ALQUILER</td>\n",
       "      <td>Camión</td>\n",
       "      <td>Diesel</td>\n",
       "      <td>HINO</td>\n",
       "      <td>2003 y anteriores</td>\n",
       "      <td>0</td>\n",
       "      <td>12.0</td>\n",
       "      <td>10 1/4 A 15</td>\n",
       "      <td>0 A 10</td>\n",
       "    </tr>\n",
       "    <tr>\n",
       "      <th>3</th>\n",
       "      <td>COTOPAXI</td>\n",
       "      <td>PARTICULAR</td>\n",
       "      <td>Camión</td>\n",
       "      <td>Diesel</td>\n",
       "      <td>HINO</td>\n",
       "      <td>2003 y anteriores</td>\n",
       "      <td>0</td>\n",
       "      <td>6.5</td>\n",
       "      <td>6 1/4 A 10</td>\n",
       "      <td>0 A 10</td>\n",
       "    </tr>\n",
       "    <tr>\n",
       "      <th>4</th>\n",
       "      <td>EL ORO</td>\n",
       "      <td>PARTICULAR</td>\n",
       "      <td>Camión</td>\n",
       "      <td>Diesel</td>\n",
       "      <td>CHEVROLET</td>\n",
       "      <td>2003 y anteriores</td>\n",
       "      <td>0</td>\n",
       "      <td>6.0</td>\n",
       "      <td>3 1/4 A 6</td>\n",
       "      <td>0 A 10</td>\n",
       "    </tr>\n",
       "  </tbody>\n",
       "</table>\n",
       "</div>"
      ],
      "text/plain": [
       "   PROVINCIA    SERVICIO    CLASE COMBUSTIBLE          MARCA  \\\n",
       "0  SUCUMBIOS    ALQUILER  Trailer      Diesel  INTERNATIONAL   \n",
       "1     GUAYAS    ALQUILER  Trailer      Diesel  INTERNATIONAL   \n",
       "2     CARCHI    ALQUILER   Camión      Diesel           HINO   \n",
       "3   COTOPAXI  PARTICULAR   Camión      Diesel           HINO   \n",
       "4     EL ORO  PARTICULAR   Camión      Diesel      CHEVROLET   \n",
       "\n",
       "              MODELO  ASIENTOS  TONELAJE     ESTRATONE ESTRASIENTOS  \n",
       "0               2006         0      45.0  15 1/4 Y MÁS       0 A 10  \n",
       "1               2011         0      40.0  15 1/4 Y MÁS       0 A 10  \n",
       "2  2003 y anteriores         0      12.0   10 1/4 A 15       0 A 10  \n",
       "3  2003 y anteriores         0       6.5    6 1/4 A 10       0 A 10  \n",
       "4  2003 y anteriores         0       6.0     3 1/4 A 6       0 A 10  "
      ]
     },
     "execution_count": 45,
     "metadata": {},
     "output_type": "execute_result"
    }
   ],
   "source": [
    "# Primero convertiremos nuestra informacion en el archivo csv, en una dataframe para el uso en jupyter\n",
    "\n",
    "df = pd.read_csv(\"2014_VehículosMatriculadosBDD.csv\", encoding='latin1')\n",
    "df.head()"
   ]
  },
  {
   "cell_type": "code",
   "execution_count": 46,
   "id": "4375b914-df49-4f33-8946-bde184270046",
   "metadata": {},
   "outputs": [
    {
     "data": {
      "text/plain": [
       "(1752712, 10)"
      ]
     },
     "execution_count": 46,
     "metadata": {},
     "output_type": "execute_result"
    }
   ],
   "source": [
    "#comprobamos las dimenciones:\n",
    "\n",
    "df.shape"
   ]
  },
  {
   "cell_type": "code",
   "execution_count": 47,
   "id": "6c1222c2-378b-4c51-a47c-77326c6d7a9c",
   "metadata": {},
   "outputs": [],
   "source": [
    "#eliminamos los duplicados:\n",
    "\n",
    "df=df.drop_duplicates()"
   ]
  },
  {
   "cell_type": "code",
   "execution_count": 48,
   "id": "5d452545-ab31-4e24-9fa7-3dd723495afa",
   "metadata": {},
   "outputs": [
    {
     "data": {
      "text/plain": [
       "PROVINCIA       0\n",
       "SERVICIO        0\n",
       "CLASE           0\n",
       "COMBUSTIBLE     0\n",
       "MARCA           0\n",
       "MODELO          0\n",
       "ASIENTOS        0\n",
       "TONELAJE        0\n",
       "ESTRATONE       0\n",
       "ESTRASIENTOS    0\n",
       "dtype: int64"
      ]
     },
     "execution_count": 48,
     "metadata": {},
     "output_type": "execute_result"
    }
   ],
   "source": [
    "# REVISAMOS SI NO TENEMOS DATOS NULOS\n",
    "\n",
    "df.isnull().sum()"
   ]
  },
  {
   "cell_type": "code",
   "execution_count": 49,
   "id": "fb8f327f-247a-4adb-a91e-642af9f42710",
   "metadata": {},
   "outputs": [
    {
     "data": {
      "text/plain": [
       "PROVINCIA        object\n",
       "SERVICIO         object\n",
       "CLASE            object\n",
       "COMBUSTIBLE      object\n",
       "MARCA            object\n",
       "MODELO           object\n",
       "ASIENTOS          int64\n",
       "TONELAJE        float64\n",
       "ESTRATONE        object\n",
       "ESTRASIENTOS     object\n",
       "dtype: object"
      ]
     },
     "execution_count": 49,
     "metadata": {},
     "output_type": "execute_result"
    }
   ],
   "source": [
    "# OBSERVAMOS EL TIPO DE DATOS CON LOS QUE SE TRABAJARA\n",
    "\n",
    "df.dtypes"
   ]
  },
  {
   "cell_type": "code",
   "execution_count": 50,
   "id": "205aa9dd-b3d6-4fc7-bbec-a78a25c5f4f2",
   "metadata": {},
   "outputs": [
    {
     "data": {
      "text/plain": [
       "(125534, 10)"
      ]
     },
     "execution_count": 50,
     "metadata": {},
     "output_type": "execute_result"
    }
   ],
   "source": [
    "# comprovamos las dimenciones finales\n",
    "\n",
    "df.shape"
   ]
  },
  {
   "cell_type": "code",
   "execution_count": null,
   "id": "9122a3c7-6bdd-43c3-8b1f-a4d8917f8c0c",
   "metadata": {},
   "outputs": [],
   "source": [
    "''EXPORTAMOS LA DATAFRAME DE JUPYTER A MONGODB''"
   ]
  },
  {
   "cell_type": "code",
   "execution_count": 51,
   "id": "c87236d3-99ea-4444-8647-75f45c231fd5",
   "metadata": {},
   "outputs": [],
   "source": [
    "# primero procedemos con la coneccion a mongodb\n",
    "\n",
    "import pandas as pd\n",
    "from pymongo import MongoClient\n",
    "\n",
    "mi_registro = \"vehiculos6\"\n",
    "\n",
    "client = MongoClient(\"mongodb://localhost:27017/\")\n",
    "db=client[\"midb\"]\n",
    "collection=db[\"mi_registro\"]"
   ]
  },
  {
   "cell_type": "code",
   "execution_count": 52,
   "id": "9c22141e-5323-4aa7-9cbc-7e4e38e88fd7",
   "metadata": {},
   "outputs": [],
   "source": [
    "# se procede a exportar la dataframe de jupyter a mongodb\n",
    "\n",
    "data = df.to_dict(orient=\"records\")\n",
    "collection = db[mi_registro]\n",
    "collection.insert_many(data)\n",
    "\n",
    "client.close()"
   ]
  },
  {
   "cell_type": "code",
   "execution_count": null,
   "id": "d563403f-d60d-4a0f-80e7-5988a05a3133",
   "metadata": {},
   "outputs": [],
   "source": [
    "''PROCEDEMOS A IMPORTAR LOS DATOS DE MONGODB HACIA JUPYTER''"
   ]
  },
  {
   "cell_type": "code",
   "execution_count": 14,
   "id": "c1793cf3-709e-45df-9905-81b5c7491d51",
   "metadata": {},
   "outputs": [],
   "source": [
    "import pymongo\n",
    "import pandas as pd"
   ]
  },
  {
   "cell_type": "code",
   "execution_count": 15,
   "id": "dc1b19ff-f5c7-4b19-a69b-b0c8814219a9",
   "metadata": {},
   "outputs": [
    {
     "name": "stdout",
     "output_type": "stream",
     "text": [
      "Empty DataFrame\n",
      "Columns: []\n",
      "Index: []\n"
     ]
    }
   ],
   "source": [
    "mi_registro = \"vehiculos2\"\n",
    "\n",
    "client = MongoClient(\"mongodb://localhost:27017/\")\n",
    "db = client[\"midb\"]\n",
    "collection = db[\"mi_registro\"]\n",
    "\n",
    "cursor = collection.find()\n",
    "lista_documentos = list(cursor)\n",
    "df = pd.DataFrame(lista_documentos)\n",
    "\n",
    "print(df.head())"
   ]
  },
  {
   "cell_type": "code",
   "execution_count": null,
   "id": "56764972-a23e-4429-b71c-63c67c7b1314",
   "metadata": {},
   "outputs": [],
   "source": [
    "''EXPORTAMOS DE MONGODB A UN JSON''"
   ]
  },
  {
   "cell_type": "code",
   "execution_count": 53,
   "id": "96fcdf67-faee-405a-b102-8ffc397c7496",
   "metadata": {},
   "outputs": [
    {
     "name": "stdout",
     "output_type": "stream",
     "text": [
      "Datos exportados a datos_vehiculos.json\n"
     ]
    }
   ],
   "source": [
    "import pymongo\n",
    "import json\n",
    "\n",
    "mi_registro = \"vehiculos6\"\n",
    "\n",
    "cliente = pymongo.MongoClient(\"mongodb://localhost:27017/\")\n",
    "db = cliente[\"midb\"]\n",
    "coleccion = db[\"vehiculos2\"]\n",
    "\n",
    "datos = list(coleccion.find())\n",
    "\n",
    "for documento in datos:\n",
    "    if \"_id\" in documento:\n",
    "        del documento[\"_id\"]\n",
    "\n",
    "with open(\"vehiculos_registro.json\", \"w\") as f:\n",
    "    json.dump(datos, f, indent=4, default=str)\n",
    "\n",
    "print(\"Datos exportados a datos_vehiculos.json\")"
   ]
  },
  {
   "cell_type": "code",
   "execution_count": null,
   "id": "74c12c46-3f02-44ed-9d3f-8167cf93c2f4",
   "metadata": {},
   "outputs": [],
   "source": [
    "'' CONVERTIMOS EL ARCHIVO JSON A UNA DATAFRAME ''"
   ]
  },
  {
   "cell_type": "code",
   "execution_count": 54,
   "id": "34bbc40c-3635-4aa7-9e56-0f6aa6473488",
   "metadata": {},
   "outputs": [
    {
     "name": "stdout",
     "output_type": "stream",
     "text": [
      "   PROVINCIA    SERVICIO    CLASE COMBUSTIBLE          MARCA  \\\n",
      "0  SUCUMBIOS    ALQUILER  Trailer      Diesel  INTERNATIONAL   \n",
      "1     GUAYAS    ALQUILER  Trailer      Diesel  INTERNATIONAL   \n",
      "2     CARCHI    ALQUILER   Camión      Diesel           HINO   \n",
      "3   COTOPAXI  PARTICULAR   Camión      Diesel           HINO   \n",
      "4     EL ORO  PARTICULAR   Camión      Diesel      CHEVROLET   \n",
      "\n",
      "              MODELO  ASIENTOS  TONELAJE     ESTRATONE ESTRASIENTOS  \n",
      "0               2006         0      45.0  15 1/4 Y MÁS       0 A 10  \n",
      "1               2011         0      40.0  15 1/4 Y MÁS       0 A 10  \n",
      "2  2003 y anteriores         0      12.0   10 1/4 A 15       0 A 10  \n",
      "3  2003 y anteriores         0       6.5    6 1/4 A 10       0 A 10  \n",
      "4  2003 y anteriores         0       6.0     3 1/4 A 6       0 A 10  \n",
      "\n",
      "\n",
      "\n",
      "<class 'pandas.core.frame.DataFrame'>\n",
      "RangeIndex: 125534 entries, 0 to 125533\n",
      "Data columns (total 10 columns):\n",
      " #   Column        Non-Null Count   Dtype  \n",
      "---  ------        --------------   -----  \n",
      " 0   PROVINCIA     125534 non-null  object \n",
      " 1   SERVICIO      125534 non-null  object \n",
      " 2   CLASE         125534 non-null  object \n",
      " 3   COMBUSTIBLE   125534 non-null  object \n",
      " 4   MARCA         125534 non-null  object \n",
      " 5   MODELO        125534 non-null  object \n",
      " 6   ASIENTOS      125534 non-null  int64  \n",
      " 7   TONELAJE      125534 non-null  float64\n",
      " 8   ESTRATONE     125534 non-null  object \n",
      " 9   ESTRASIENTOS  125534 non-null  object \n",
      "dtypes: float64(1), int64(1), object(8)\n",
      "memory usage: 9.6+ MB\n",
      "None\n"
     ]
    }
   ],
   "source": [
    "import json\n",
    "import pandas as pd\n",
    "\n",
    "with open(\"vehiculos_registro.json\", \"r\") as f:\n",
    "    datos = json.load(f)\n",
    "\n",
    "df_vehiculos = pd.DataFrame(datos)\n",
    "\n",
    "print(df_vehiculos.head()) \n",
    "print(\"\\n\\n\")\n",
    "print(df_vehiculos.info())"
   ]
  },
  {
   "cell_type": "code",
   "execution_count": 42,
   "id": "aca9f76b-206e-4c5c-8e8a-a69c87787c25",
   "metadata": {},
   "outputs": [],
   "source": [
    "''PROCEDEMOS A EXPORTAR LOS DATOS DE JUPYTER HACI SQLITE''"
   ]
  },
  {
   "cell_type": "code",
   "execution_count": 55,
   "id": "b4651e95-27cd-4915-8564-f04ebef82ea1",
   "metadata": {},
   "outputs": [],
   "source": [
    "# primmero creamos una coneccion a SQLite\n",
    "\n",
    "registro_sql = \"registro_sql.db\"\n",
    "conexion = sqlite3.connect(registro_sql)"
   ]
  },
  {
   "cell_type": "code",
   "execution_count": 56,
   "id": "23b337f4-ed2b-44eb-92c0-f8522504d52c",
   "metadata": {},
   "outputs": [],
   "source": [
    "# entonces en este paso exportamos nuestra dataframe a sqlite\n",
    "\n",
    "registro_autos = \"registro_autos\"\n",
    "df_vehiculos.to_sql(registro_autos, conexion, if_exists=\"replace\", index=False)\n",
    "\n",
    "conexion.close()"
   ]
  },
  {
   "cell_type": "code",
   "execution_count": null,
   "id": "fae3198a-73ff-48d0-a433-3ce4b2223051",
   "metadata": {},
   "outputs": [],
   "source": [
    "'' AHORA TRANSFERIREMOS LOS DATOS DE SQLITE A MYSQL WORKBECH ''"
   ]
  },
  {
   "cell_type": "code",
   "execution_count": 20,
   "id": "fb4a1efd-831f-45bb-90e2-d65b72ff48bf",
   "metadata": {},
   "outputs": [],
   "source": [
    "import sqlite3\n",
    "import pandas as pd\n",
    "\n",
    "conn_sqlite = sqlite3.connect('registro_sql.db')"
   ]
  },
  {
   "cell_type": "code",
   "execution_count": 21,
   "id": "58d72f35-c647-45ef-b7b9-259e574b0df6",
   "metadata": {},
   "outputs": [],
   "source": [
    "registro_autos = pd.read_sql_query(\"SELECT * FROM registro_autos\", conn_sqlite)"
   ]
  },
  {
   "cell_type": "code",
   "execution_count": 22,
   "id": "4739dbd3-429b-4306-8371-0dbc2a216c24",
   "metadata": {},
   "outputs": [],
   "source": [
    "from sqlalchemy import create_engine\n",
    "\n",
    "nombre_usuario = 'root'\n",
    "contraseña = 'Honkai9029'\n",
    "nombre_base_datos = 'vehiculos_registro'\n",
    "host = '127.0.0.1'\n",
    "\n",
    "engine = create_engine(f'mysql+mysqlconnector://{nombre_usuario}:{contraseña}@{host}/{nombre_base_datos}')"
   ]
  },
  {
   "cell_type": "code",
   "execution_count": null,
   "id": "88dff309-6ccb-4191-a77d-147bc0ced5e3",
   "metadata": {},
   "outputs": [],
   "source": [
    "registro_autos.to_sql('registro_autos', engine, if_exists='replace', index=False)"
   ]
  },
  {
   "cell_type": "code",
   "execution_count": null,
   "id": "6d6563ab-8021-4c6f-8de1-1d211d236859",
   "metadata": {},
   "outputs": [],
   "source": [
    "''PROCEDEMOS A IMPORTAR LOS DATOS DE SQLITE HACIA JUPYTER''"
   ]
  },
  {
   "cell_type": "code",
   "execution_count": 57,
   "id": "f7d5f873-21d0-4c5d-bbfc-3fb837a704ea",
   "metadata": {},
   "outputs": [
    {
     "name": "stdout",
     "output_type": "stream",
     "text": [
      "('SUCUMBIOS', 'ALQUILER', 'Trailer', 'Diesel', 'INTERNATIONAL', '2006', 0, 45.0, '15 1/4 Y MÁS', '0 A 10')\n",
      "('GUAYAS', 'ALQUILER', 'Trailer', 'Diesel', 'INTERNATIONAL', '2011', 0, 40.0, '15 1/4 Y MÁS', '0 A 10')\n",
      "('CARCHI', 'ALQUILER', 'Camión', 'Diesel', 'HINO', '2003 y anteriores', 0, 12.0, '10 1/4 A 15', '0 A 10')\n",
      "('COTOPAXI', 'PARTICULAR', 'Camión', 'Diesel', 'HINO', '2003 y anteriores', 0, 6.5, '6 1/4 A 10', '0 A 10')\n",
      "('EL ORO', 'PARTICULAR', 'Camión', 'Diesel', 'CHEVROLET', '2003 y anteriores', 0, 6.0, '3 1/4 A 6', '0 A 10')\n",
      "('LOS RIOS', 'PARTICULAR', 'Camión', 'Diesel', 'FORD', '2003 y anteriores', 0, 6.0, '3 1/4 A 6', '0 A 10')\n",
      "('LOS RIOS', 'PARTICULAR', 'Camión', 'Gasolina', 'FORD', '2003 y anteriores', 0, 5.0, '3 1/4 A 6', '0 A 10')\n",
      "('MANABI', 'ALQUILER', 'Volqueta', 'Diesel', 'MITSUBISHI', '2003 y anteriores', 0, 5.0, '3 1/4 A 6', '0 A 10')\n",
      "('CAÑAR', 'PARTICULAR', 'Camión', 'Diesel', 'TOYOTA', '2003 y anteriores', 0, 4.0, '3 1/4 A 6', '0 A 10')\n",
      "('CHIMBORAZO', 'PARTICULAR', 'Camión', 'Gasolina', 'FORD', '2003 y anteriores', 0, 3.5, '3 1/4 A 6', '0 A 10')\n"
     ]
    }
   ],
   "source": [
    "# se procede a ser la importacion de los datos de sqlite a jupyter\n",
    "\n",
    "import sqlite3\n",
    "\n",
    "registro_sql = \"registro_sql.db\"\n",
    "conexion = sqlite3.connect(registro_sql)\n",
    "cursor = conexion.cursor()\n",
    "\n",
    "cursor.execute(\"SELECT * FROM registro_autos\")\n",
    "datos = cursor.fetchall()\n",
    "\n",
    "for i,fila in enumerate(datos):\n",
    "    if i < 10:\n",
    "        print(fila)\n",
    "    else:\n",
    "        break\n",
    "\n",
    "conexion.close()"
   ]
  },
  {
   "cell_type": "code",
   "execution_count": 16,
   "id": "cb54b398-8c67-4a36-ae9f-db786f78e603",
   "metadata": {},
   "outputs": [],
   "source": [
    "'' CONVERTIMOS LA DATAFRAME  EN JSON ''"
   ]
  },
  {
   "cell_type": "code",
   "execution_count": 58,
   "id": "8c19aed7-ba81-4c05-a3a5-eab09a9abd30",
   "metadata": {},
   "outputs": [],
   "source": [
    "df.to_json('vehiculos_json_new.json')"
   ]
  },
  {
   "cell_type": "code",
   "execution_count": null,
   "id": "52db3d41-2be8-4f8c-a8ba-2aac185c5835",
   "metadata": {},
   "outputs": [],
   "source": [
    "'' CONVERTIMOS LA DATAFRAME EN CSV ''"
   ]
  },
  {
   "cell_type": "code",
   "execution_count": 59,
   "id": "208d8baa-312f-4129-af02-5ba826b65945",
   "metadata": {},
   "outputs": [],
   "source": [
    "df.to_csv('vehiculos_csv_new.csv')"
   ]
  },
  {
   "cell_type": "code",
   "execution_count": null,
   "id": "e316ff8e-0f18-4bb5-b014-ca4b05c86bd2",
   "metadata": {},
   "outputs": [],
   "source": []
  }
 ],
 "metadata": {
  "kernelspec": {
   "display_name": "Python 3 (ipykernel)",
   "language": "python",
   "name": "python3"
  },
  "language_info": {
   "codemirror_mode": {
    "name": "ipython",
    "version": 3
   },
   "file_extension": ".py",
   "mimetype": "text/x-python",
   "name": "python",
   "nbconvert_exporter": "python",
   "pygments_lexer": "ipython3",
   "version": "3.13.0"
  }
 },
 "nbformat": 4,
 "nbformat_minor": 5
}
